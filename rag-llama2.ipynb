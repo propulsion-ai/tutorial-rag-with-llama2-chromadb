{
 "cells": [
  {
   "cell_type": "markdown",
   "metadata": {},
   "source": [
    "# Retrieval-Augmented Generation with Llama2 and ChromaDB on PropulsionAI\n",
    "\n",
    "In this notebook, we'll explore how to leverage Retrieval-Augmented Generation (RAG) to enhance language model responses with relevant information from a knowledge base. Specifically, we'll use a pre-trained Llama2 model from PropulsionAI, a powerful language model, and ChromaDB, a vector database, to build a question-answering system focused on Domino's Pizza in India.\n",
    "\n",
    "To learn how to train a Llama2 model, check the link: [Fine-Tune LLaMA 2 on PropulsionAI](https://propulsionhq.com/resources/tutorials/llama-2-fine-tune-your-own-data/).\n"
   ]
  },
  {
   "cell_type": "code",
   "execution_count": null,
   "metadata": {},
   "outputs": [],
   "source": [
    "# Install necessary libraries\n",
    "%pip install -q chromadb langchain requests sentence-transformers langchain-community jq"
   ]
  },
  {
   "cell_type": "code",
   "execution_count": 2,
   "metadata": {},
   "outputs": [],
   "source": [
    "# Import required libraries\n",
    "import json\n",
    "from typing import Any, List, Optional\n",
    "\n",
    "import requests\n",
    "from langchain.chains import RetrievalQA\n",
    "from langchain.embeddings.huggingface import HuggingFaceEmbeddings\n",
    "from langchain.vectorstores import Chroma\n",
    "from langchain_community.document_loaders import JSONLoader\n",
    "from langchain_core.callbacks.manager import CallbackManagerForLLMRun\n",
    "from langchain_core.language_models.llms import LLM"
   ]
  },
  {
   "cell_type": "code",
   "execution_count": 3,
   "metadata": {},
   "outputs": [],
   "source": [
    "# Load the data from dominos-menu.jsonl\n",
    "loader = JSONLoader(\n",
    "    file_path=\"./dominos-menu.jsonl\",\n",
    "    jq_schema=\"{name: .name, price: .price, description: .description, category: .category}\",\n",
    "    text_content=False,\n",
    "    json_lines=True,\n",
    ")\n",
    "data = loader.load()"
   ]
  },
  {
   "cell_type": "code",
   "execution_count": null,
   "metadata": {},
   "outputs": [],
   "source": [
    "# Set up Chroma vector database\n",
    "embeddings = HuggingFaceEmbeddings()\n",
    "vectordb = Chroma.from_documents(data, embeddings)"
   ]
  },
  {
   "cell_type": "code",
   "execution_count": 12,
   "metadata": {},
   "outputs": [],
   "source": [
    "# Set up Llama2 API using Propulsion API key and model version id\n",
    "PROPULSION_API_KEY = \"your api key\"\n",
    "PROPULSION_VERSION_ID = \"your model version id\""
   ]
  },
  {
   "cell_type": "code",
   "execution_count": 20,
   "metadata": {},
   "outputs": [],
   "source": [
    "def call_llama2(prompt, temperature=0.5, top_p=1, n=1, max_tokens=500, stream=False):\n",
    "    url = f\"https://api.propulsionhq.com/api/v1/{PROPULSION_VERSION_ID}/run?wait=true\"\n",
    "    payload = {\n",
    "        \"model\": \"p8n-llm\",\n",
    "        \"messages\": [\n",
    "            {\n",
    "                \"role\": \"system\",\n",
    "                \"content\": \"You are Domino's India Copilot, a specialized GPT model created to interact with users regarding Domino's Pizza in India. Your role is to provide information about Domino's products & prices, services, policies, and procedures within India. Your responses should be focused on Domino's-related inquiries only, avoiding engagement in general conversation or unrelated topics. Ensure your responses are up-to-date, accurate, concise, and relevant to Domino's India. You don't talk about anything else. If you're not provided with product prices in instructions, you don't mention prices, otherwise you do. Operational Guidelines: 1. Focus: Address only Domino's India-related questions including menu items, delivery services, gift cards, franchise opportunities, and customer service policies. 2. Accuracy: Offer factually correct information based on the latest updates from Domino's India. 3. Conciseness: Keep responses clear and to the point, without additional elaboration or extraneous content. 4. Relevance: Respond exclusively to questions about Domino's India and politely DECLINE topics outside this remit. 5. Don't invent any new products or items on your own, stick to your existing information. Don't hallucinate. 6. Currency is Indian Rupees (INR). Add INR while quoting prices like Veg Paradise (INR 589). Example Interactions: - User Query: How do I redeem my Domino's gift card? Copilot Response: To redeem your Domino's gift card in India, present it at checkout in any participating outlet or enter the card details online during payment. - User Query: What's the latest pizza on the Domino's menu? Copilot Response: Domino's India's newest menu item is the 'Spicy Triple Tango' pizza. Check the Domino's app or website for more details. - User Query: Can you tell me a joke? Copilot Response: My expertise is in assisting with Domino's India-related questions. For jokes, please look elsewhere. How may I help with your Domino's experience today? - User Query: Who is donald trump? Copilot Response: My expertise is in assisting with Domino's India-related questions. How may I help with your Domino's experience today?\",\n",
    "            },\n",
    "            {\"role\": \"user\", \"content\": prompt},\n",
    "        ],\n",
    "        \"temperature\": temperature,\n",
    "        \"top_p\": top_p,\n",
    "        \"n\": n,\n",
    "        \"max_tokens\": max_tokens,\n",
    "        \"stream\": stream,\n",
    "    }\n",
    "\n",
    "    headers = {\n",
    "        \"Authorization\": f\"Bearer {PROPULSION_API_KEY}\",\n",
    "        \"Content-Type\": \"application/json; charset=utf-8\",\n",
    "    }\n",
    "    response = requests.request(\"POST\", url, headers=headers, data=json.dumps(payload))\n",
    "\n",
    "    # raise exception if response status code is not 200\n",
    "    response.raise_for_status()\n",
    "\n",
    "    response_json = response.json()\n",
    "\n",
    "    if stream:\n",
    "        output = \"\".join(\n",
    "            [chunk[\"choices\"][0][\"message\"][\"content\"] for chunk in response_json]\n",
    "        )\n",
    "    else:\n",
    "        output = response_json[\"choices\"][0][\"message\"][\"content\"]\n",
    "\n",
    "    return output"
   ]
  },
  {
   "cell_type": "code",
   "execution_count": 7,
   "metadata": {},
   "outputs": [],
   "source": [
    "# Set up custom LLM\n",
    "class PropulsionLLM(LLM):\n",
    "    @property\n",
    "    def _llm_type(self) -> str:\n",
    "        return \"custom\"\n",
    "\n",
    "    def _call(\n",
    "        self,\n",
    "        prompt: str,\n",
    "        stop: Optional[List[str]] = None,\n",
    "        run_manager: Optional[CallbackManagerForLLMRun] = None,\n",
    "        **kwargs: Any,\n",
    "    ) -> str:\n",
    "        if stop is not None:\n",
    "            raise ValueError(\"stop kwargs are not permitted.\")\n",
    "        return call_llama2(prompt)\n",
    "\n",
    "    @property\n",
    "    def _llm_type(self):\n",
    "        return \"custom\"\n",
    "\n",
    "\n",
    "llm = PropulsionLLM()"
   ]
  },
  {
   "cell_type": "code",
   "execution_count": 8,
   "metadata": {},
   "outputs": [],
   "source": [
    "# Set up RAG chain\n",
    "qa = RetrievalQA.from_llm(llm, retriever=vectordb.as_retriever())"
   ]
  },
  {
   "cell_type": "code",
   "execution_count": 21,
   "metadata": {},
   "outputs": [
    {
     "name": "stdout",
     "output_type": "stream",
     "text": [
      "{'query': 'What are some vegetarian options on the menu? Give me the prices as well.', 'result': 'There are several vegetarian options on the menu, including the Veg Paradise (INR 589) and Veg Extravaganza (INR 619) meals, which feature a regular pizza and a regular side.'}\n"
     ]
    }
   ],
   "source": [
    "# Ask a question\n",
    "query = \"What are some vegetarian options on the menu? Give me the prices as well.\"\n",
    "result = qa.invoke(query)\n",
    "print(result)"
   ]
  }
 ],
 "metadata": {
  "kernelspec": {
   "display_name": "Python 3",
   "language": "python",
   "name": "python3"
  },
  "language_info": {
   "codemirror_mode": {
    "name": "ipython",
    "version": 3
   },
   "file_extension": ".py",
   "mimetype": "text/x-python",
   "name": "python",
   "nbconvert_exporter": "python",
   "pygments_lexer": "ipython3",
   "version": "3.9.6"
  }
 },
 "nbformat": 4,
 "nbformat_minor": 2
}
